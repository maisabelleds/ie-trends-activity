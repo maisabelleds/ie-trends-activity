{
  "nbformat": 4,
  "nbformat_minor": 0,
  "metadata": {
    "colab": {
      "name": "IE-Trends-Activity.ipynb",
      "provenance": [],
      "authorship_tag": "ABX9TyPIL5Ic+OSuZAxc2BV3Ev6Y",
      "include_colab_link": true
    },
    "kernelspec": {
      "name": "python3",
      "display_name": "Python 3"
    },
    "language_info": {
      "name": "python"
    }
  },
  "cells": [
    {
      "cell_type": "markdown",
      "metadata": {
        "id": "view-in-github",
        "colab_type": "text"
      },
      "source": [
        "<a href=\"https://colab.research.google.com/github/maisabelleds/ie-trends-activity/blob/main/IE_Trends_Activity.ipynb\" target=\"_parent\"><img src=\"https://colab.research.google.com/assets/colab-badge.svg\" alt=\"Open In Colab\"/></a>"
      ]
    },
    {
      "cell_type": "markdown",
      "metadata": {
        "id": "ZkZk7Uy7uciR"
      },
      "source": [
        "# Python Basics\n",
        "This section reviews programming fundamentals using Python. "
      ]
    },
    {
      "cell_type": "code",
      "metadata": {
        "id": "AslX72V2x5bc"
      },
      "source": [
        "x = 10\n",
        "y = 3.14"
      ],
      "execution_count": 14,
      "outputs": []
    },
    {
      "cell_type": "markdown",
      "metadata": {
        "id": "KdYWokRqyA95"
      },
      "source": [
        "# Printing"
      ]
    },
    {
      "cell_type": "code",
      "metadata": {
        "colab": {
          "base_uri": "https://localhost:8080/"
        },
        "id": "WDXOaNB8yEPz",
        "outputId": "2f8d3a6d-b47b-466b-fa6b-e93bb6dc23e1"
      },
      "source": [
        "print(x)\n",
        "print(y)"
      ],
      "execution_count": 13,
      "outputs": [
        {
          "output_type": "stream",
          "text": [
            "10\n",
            "3.14\n"
          ],
          "name": "stdout"
        }
      ]
    },
    {
      "cell_type": "markdown",
      "metadata": {
        "id": "IHmVvXczzLXt"
      },
      "source": [
        "# Operations"
      ]
    },
    {
      "cell_type": "code",
      "metadata": {
        "colab": {
          "base_uri": "https://localhost:8080/"
        },
        "id": "beyvlSChzNR4",
        "outputId": "2f221f6f-4844-4d12-ee61-3f84a56256b5"
      },
      "source": [
        "## Addition (also a comment line)\n",
        "z1=x+y\n",
        "## Subtraction\n",
        "z2=x-y\n",
        "## Multiplication\n",
        "z3=x*y\n",
        "## Division\n",
        "z4=x/y\n",
        "## PEMDAS\n",
        "x*(y-10)/5"
      ],
      "execution_count": 23,
      "outputs": [
        {
          "output_type": "execute_result",
          "data": {
            "text/plain": [
              "-13.719999999999999"
            ]
          },
          "metadata": {
            "tags": []
          },
          "execution_count": 23
        }
      ]
    },
    {
      "cell_type": "markdown",
      "metadata": {
        "id": "_hV5_0Hu0-Nt"
      },
      "source": [
        "Coding $2^5$"
      ]
    },
    {
      "cell_type": "code",
      "metadata": {
        "colab": {
          "base_uri": "https://localhost:8080/"
        },
        "id": "HYPYy1xW0Vct",
        "outputId": "8eff2634-4a70-4603-c444-39bbf5eb59da"
      },
      "source": [
        "## Exponentiation\n",
        "z5=2**5\n",
        "## Floor Division\n",
        "z6=round(19/2)\n",
        "print(z6)\n",
        "## Trigonometric\n",
        "import math\n",
        "# math.sin(y)+math.cos(x)"
      ],
      "execution_count": 34,
      "outputs": [
        {
          "output_type": "stream",
          "text": [
            "10\n"
          ],
          "name": "stdout"
        }
      ]
    },
    {
      "cell_type": "code",
      "metadata": {
        "colab": {
          "base_uri": "https://localhost:8080/"
        },
        "id": "-7d4J_A62tui",
        "outputId": "df3a282d-bbb8-48eb-a3aa-240b4183ea46"
      },
      "source": [
        "## Exponentiation\n",
        "z5=2**5\n",
        "## Floor Division\n",
        "z6=x//y\n",
        "## Trigonometric\n",
        "import math\n",
        "math.sin(y)+math.cos(x)"
      ],
      "execution_count": 35,
      "outputs": [
        {
          "output_type": "execute_result",
          "data": {
            "text/plain": [
              "-0.8374788761599656"
            ]
          },
          "metadata": {
            "tags": []
          },
          "execution_count": 35
        }
      ]
    },
    {
      "cell_type": "markdown",
      "metadata": {
        "id": "fLSdNy4c14sC"
      },
      "source": [
        "$\\sin(y)+cos(x)$"
      ]
    },
    {
      "cell_type": "markdown",
      "metadata": {
        "id": "GHmOITw122DK"
      },
      "source": [
        "# Loops"
      ]
    },
    {
      "cell_type": "code",
      "metadata": {
        "colab": {
          "base_uri": "https://localhost:8080/"
        },
        "id": "8bedA-0E23jN",
        "outputId": "49d09d81-9373-4583-d37b-6d7f476b54a9"
      },
      "source": [
        "for i in range(0,10):\n",
        "  print(i+1)\n",
        "  print(i)"
      ],
      "execution_count": 41,
      "outputs": [
        {
          "output_type": "stream",
          "text": [
            "1\n",
            "0\n",
            "2\n",
            "1\n",
            "3\n",
            "2\n",
            "4\n",
            "3\n",
            "5\n",
            "4\n",
            "6\n",
            "5\n",
            "7\n",
            "6\n",
            "8\n",
            "7\n",
            "9\n",
            "8\n",
            "10\n",
            "9\n"
          ],
          "name": "stdout"
        }
      ]
    },
    {
      "cell_type": "code",
      "metadata": {
        "colab": {
          "base_uri": "https://localhost:8080/"
        },
        "id": "bK7utY9Q3jWC",
        "outputId": "327ca689-09e5-4cc7-8987-548c3303acd6"
      },
      "source": [
        "for i in range(0,10):\n",
        "  print(\"Hello\")\n",
        "  print(\"World\")"
      ],
      "execution_count": 42,
      "outputs": [
        {
          "output_type": "stream",
          "text": [
            "Hello\n",
            "World\n",
            "Hello\n",
            "World\n",
            "Hello\n",
            "World\n",
            "Hello\n",
            "World\n",
            "Hello\n",
            "World\n",
            "Hello\n",
            "World\n",
            "Hello\n",
            "World\n",
            "Hello\n",
            "World\n",
            "Hello\n",
            "World\n",
            "Hello\n",
            "World\n"
          ],
          "name": "stdout"
        }
      ]
    },
    {
      "cell_type": "markdown",
      "metadata": {
        "id": "xQ9WmBY93zbI"
      },
      "source": [
        "$\\sin(i)+\\cos(i+\\pi)$"
      ]
    },
    {
      "cell_type": "code",
      "metadata": {
        "colab": {
          "base_uri": "https://localhost:8080/"
        },
        "id": "vKhlGNJP3ubx",
        "outputId": "b97c7f41-7a28-4e15-ce80-5f6e35180ca8"
      },
      "source": [
        "for i in range(0,10):\n",
        "  tz=math.sin(i)+math.cos(i+math.pi)\n",
        "  print(tz)"
      ],
      "execution_count": 45,
      "outputs": [
        {
          "output_type": "stream",
          "text": [
            "-1.0\n",
            "0.30116867893975674\n",
            "1.325444263372824\n",
            "1.1311125046603125\n",
            "-0.10315887444431615\n",
            "-1.2425864601263645\n",
            "-1.2395857848492917\n",
            "-0.09691565562451565\n",
            "1.134858280431995\n",
            "1.3232487471264336\n"
          ],
          "name": "stdout"
        }
      ]
    },
    {
      "cell_type": "markdown",
      "metadata": {
        "id": "0dG4Toi046Id"
      },
      "source": [
        "$\\sum {\\sin(i)+\\cos(i+\\pi)}$"
      ]
    },
    {
      "cell_type": "code",
      "metadata": {
        "colab": {
          "base_uri": "https://localhost:8080/"
        },
        "id": "1RakvuKG5EBx",
        "outputId": "ae8345ed-a7ce-4c80-f272-56f20cee7805"
      },
      "source": [
        "tz=0\n",
        "for i in range(0,10):\n",
        "  print(tz)\n",
        "  tz+=1\n",
        "  # print(tz)"
      ],
      "execution_count": 46,
      "outputs": [
        {
          "output_type": "stream",
          "text": [
            "0\n",
            "1\n",
            "2\n",
            "3\n",
            "4\n",
            "5\n",
            "6\n",
            "7\n",
            "8\n",
            "9\n"
          ],
          "name": "stdout"
        }
      ]
    },
    {
      "cell_type": "code",
      "metadata": {
        "colab": {
          "base_uri": "https://localhost:8080/"
        },
        "id": "YhiFUxTg5QIv",
        "outputId": "734692cd-41b7-48e0-f375-0c5b3f2513e9"
      },
      "source": [
        "## Summation\n",
        "tz=0\n",
        "for i in range(0,10): ##range(min.max) --> min to max-1\n",
        "  tz+=math.sin(i)+math.cos(i+math.pi)\n",
        "  print(tz)"
      ],
      "execution_count": 47,
      "outputs": [
        {
          "output_type": "stream",
          "text": [
            "-1.0\n",
            "-0.6988313210602433\n",
            "0.6266129423125808\n",
            "1.7577254469728933\n",
            "1.6545665725285772\n",
            "0.41198011240221266\n",
            "-0.827605672447079\n",
            "-0.9245213280715947\n",
            "0.2103369523604004\n",
            "1.533585699486834\n"
          ],
          "name": "stdout"
        }
      ]
    },
    {
      "cell_type": "markdown",
      "metadata": {
        "id": "8h78sDFD5_Kv"
      },
      "source": [
        "# Functions"
      ]
    },
    {
      "cell_type": "markdown",
      "metadata": {
        "id": "B4YZrSdb6M_Q"
      },
      "source": [
        "$sum-1^2$"
      ]
    },
    {
      "cell_type": "code",
      "metadata": {
        "id": "Wi6LVIHx6Aw1"
      },
      "source": [
        "s=0\n",
        "for i in range(0,10):\n",
        "  s+=i\n",
        "  h=s-i**2\n",
        "  print(h)"
      ],
      "execution_count": null,
      "outputs": []
    },
    {
      "cell_type": "code",
      "metadata": {
        "id": "4-9KfRkZ6hkN"
      },
      "source": [
        "def equation1(s,i):\n",
        "  return s-i**2"
      ],
      "execution_count": 52,
      "outputs": []
    }
  ]
}